{
 "cells": [
  {
   "cell_type": "code",
   "execution_count": null,
   "id": "b747e381",
   "metadata": {},
   "outputs": [],
   "source": [
    "import sqlite3"
   ]
  },
  {
   "cell_type": "code",
   "execution_count": null,
   "id": "20873838",
   "metadata": {},
   "outputs": [],
   "source": [
    "PATH = \"C:\\\\Users\\\\Owner\\\\Desktop\\\\DEVOPS_COURSE\\\\SQL_practice\"\n",
    "FILENAME = \"Inventory.db\"\n",
    "FILE = PATH + FILENAME"
   ]
  },
  {
   "cell_type": "code",
   "execution_count": null,
   "id": "4c12f1e7",
   "metadata": {},
   "outputs": [],
   "source": [
    "def set_sql_connection():\n",
    "    \"\"\"\n",
    "    This function will create connection to a database, using sqlite3 module\n",
    "    This function returns a Connection object \n",
    "    \"\"\"\n",
    "    con = sqlite3.connect(FILE)\n",
    "    return con"
   ]
  }
 ],
 "metadata": {
  "kernelspec": {
   "display_name": "Python 3 (ipykernel)",
   "language": "python",
   "name": "python3"
  },
  "language_info": {
   "codemirror_mode": {
    "name": "ipython",
    "version": 3
   },
   "file_extension": ".py",
   "mimetype": "text/x-python",
   "name": "python",
   "nbconvert_exporter": "python",
   "pygments_lexer": "ipython3",
   "version": "3.10.2"
  }
 },
 "nbformat": 4,
 "nbformat_minor": 5
}
