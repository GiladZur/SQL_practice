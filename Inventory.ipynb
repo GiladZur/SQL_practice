{
 "cells": [
  {
   "cell_type": "code",
   "execution_count": null,
   "id": "f6b6ce0f",
   "metadata": {},
   "outputs": [],
   "source": [
    "import sqlite3"
   ]
  },
  {
   "cell_type": "code",
   "execution_count": null,
   "id": "c77c3b82",
   "metadata": {},
   "outputs": [],
   "source": [
    "PATH = \"C:\\\\Users\\\\Owner\\\\Desktop\\\\DEVOPS_COURSE\\\\SQL_practice\"\n",
    "FILENAME = \"Inventory.db\"\n",
    "FILE = PATH + FILENAME"
   ]
  },
  {
   "cell_type": "code",
   "execution_count": null,
   "id": "0330262d",
   "metadata": {},
   "outputs": [],
   "source": [
    "def set_sql_connection():\n",
    "    \"\"\"\n",
    "    This function will create connection to a database, using sqlite3 module\n",
    "    This function returns a Connection object \n",
    "    \"\"\"\n",
    "    con = sqlite3.connect(FILE)\n",
    "    return con"
   ]
  },
  {
   "cell_type": "code",
   "execution_count": null,
   "id": "2b5fff9a",
   "metadata": {},
   "outputs": [],
   "source": [
    "def set_cursor(con):\n",
    "    \"\"\"\n",
    "    This function will create a Cursor object, once a connection had been made using set_sql_connection\n",
    "    IN: con\n",
    "    TYPE: sqlite3.connect\n",
    "    OUT: cur\n",
    "    TYPE: sqlite3.connect.cursor\n",
    "    \"\"\"\n",
    "    cur = con.cursor()\n",
    "    return cur"
   ]
  },
  {
   "cell_type": "code",
   "execution_count": null,
   "id": "4ed5e6bd",
   "metadata": {},
   "outputs": [],
   "source": []
  }
 ],
 "metadata": {
  "kernelspec": {
   "display_name": "Python 3 (ipykernel)",
   "language": "python",
   "name": "python3"
  },
  "language_info": {
   "codemirror_mode": {
    "name": "ipython",
    "version": 3
   },
   "file_extension": ".py",
   "mimetype": "text/x-python",
   "name": "python",
   "nbconvert_exporter": "python",
   "pygments_lexer": "ipython3",
   "version": "3.10.2"
  }
 },
 "nbformat": 4,
 "nbformat_minor": 5
}
