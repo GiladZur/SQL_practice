{
 "cells": [
  {
   "cell_type": "code",
   "execution_count": 1,
   "id": "50b53a27",
   "metadata": {},
   "outputs": [],
   "source": [
    "import sqlite3\n",
    "from datetime import date "
   ]
  },
  {
   "cell_type": "code",
   "execution_count": 2,
   "id": "7ee12df3",
   "metadata": {},
   "outputs": [],
   "source": [
    "import time"
   ]
  },
  {
   "cell_type": "code",
   "execution_count": 3,
   "id": "e0fcd544",
   "metadata": {},
   "outputs": [],
   "source": [
    "PATH = \"C:\\\\Users\\\\Owner\\\\Desktop\\\\DEVOPS_COURSE\\\\SQL_practice\\\\\"\n",
    "FILENAME = \"Inventory.db\"\n",
    "FILE = PATH + FILENAME"
   ]
  },
  {
   "cell_type": "code",
   "execution_count": 4,
   "id": "7efa5550",
   "metadata": {},
   "outputs": [],
   "source": [
    "def set_sql_connection():\n",
    "    \"\"\"\n",
    "    This function will create connection to a database, using sqlite3 module\n",
    "    This function returns a Connection object \n",
    "    \"\"\"\n",
    "    try:\n",
    "        con = sqlite3.connect(FILE)\n",
    "        return con\n",
    "    except OperationalError as e:\n",
    "        print(str(e))       \n",
    "   "
   ]
  },
  {
   "cell_type": "code",
   "execution_count": 5,
   "id": "a6807076",
   "metadata": {},
   "outputs": [],
   "source": [
    "def set_cursor(con):\n",
    "    \"\"\"\n",
    "    This function will create a Cursor object, once a connection had been made using set_sql_connection\n",
    "    IN: con\n",
    "    TYPE: sqlite3.connect\n",
    "    OUT: cur\n",
    "    TYPE: sqlite3.connect.cursor\n",
    "    \"\"\"\n",
    "    cur = con.cursor()\n",
    "    return cur"
   ]
  },
  {
   "cell_type": "code",
   "execution_count": 6,
   "id": "d68f27e9",
   "metadata": {},
   "outputs": [],
   "source": [
    "def close_sql_connection(con):\n",
    "    \"\"\"\n",
    "    This function will commit any changes to an open sql connection and closes it.\n",
    "    IN: con\n",
    "    TYPE: sqlite3.connect \n",
    "    \"\"\"\n",
    "    con.commit()\n",
    "    con.close()"
   ]
  },
  {
   "cell_type": "code",
   "execution_count": 7,
   "id": "6a16194f",
   "metadata": {},
   "outputs": [],
   "source": [
    "def get_items():\n",
    "    \"\"\"\n",
    "    This function retrieves all users information from a database\n",
    "    IN: \n",
    "    OUT: Values from DB as LIST of Dict\n",
    "    Type: LIST\n",
    "    \"\"\"\n",
    "    con = set_sql_connection() ## Creates connection\n",
    "    cur = set_cursor(con) ## Creates Cursor\n",
    "    query = \"SELECT * FROM Inventory\" ## SQL QUERY\n",
    "    data = cur.execute(query).fetchall() ## EXECUTING SQL QUERY\n",
    "    dct = sort_as_dict(cur, data)\n",
    "    close_sql_connection(con) ## Closing connection\n",
    "    return dct"
   ]
  },
  {
   "cell_type": "code",
   "execution_count": 8,
   "id": "28f7d59d",
   "metadata": {},
   "outputs": [],
   "source": [
    "def sort_as_dict(cur, data):\n",
    "    \"\"\"\n",
    "    This function receives cur, data, where:\n",
    "    1. cur will be used to retrieve columns\n",
    "    2. data will be used to retrieve values\n",
    "    This function will return a list of dictionary {columns:values}\n",
    "    \"\"\"\n",
    "    ## List Comprehension\n",
    "    columns = [desc[0] for desc in cur.description] ## GETTING COLUMNS NAMES FROM DB\n",
    "    result = []\n",
    "    for row in data:\n",
    "        row = dict(zip(columns, row))\n",
    "        result.append(row)\n",
    "        \n",
    "    return result"
   ]
  },
  {
   "cell_type": "code",
   "execution_count": 9,
   "id": "7100e9f8",
   "metadata": {},
   "outputs": [],
   "source": [
    "def is_item_exist(item):\n",
    "    con = set_sql_connection() ## Creates connection\n",
    "    cur = set_cursor(con) ## Creates Cursor\n",
    "    query = \"SELECT * FROM `Inventory`\" ## SQL QUERY\n",
    "    data = cur.execute(query).fetchall() ## EXECUTING SQL QUERY\n",
    "    close_sql_connection(con)\n",
    "    for row in data:\n",
    "        if row[1] == item:\n",
    "            return True\n",
    "    return False"
   ]
  },
  {
   "cell_type": "code",
   "execution_count": 10,
   "id": "57a77d1d",
   "metadata": {},
   "outputs": [],
   "source": [
    "def insert_item(item, category, quantity, price, date):\n",
    "    \"\"\"\n",
    "    This function inserts a new user into an existing database, once validating that the user or email doesnt exist\n",
    "    \"\"\"\n",
    "    con = set_sql_connection() ## Creates connection\n",
    "    cur = set_cursor(con) ## Creates Cursor\n",
    "    if not (is_item_exist(item)): ## is exist validation\n",
    "        query = \"INSERT INTO Inventory (`Item`,`Category`,`Quantity`,`Price`,`Date`) VALUES (?,?,?,?,?)\" ## PREPARED STATEMENT\n",
    "        cur.execute(query, (item, category, quantity, price,date)) ## PREPARED STATEMENT\n",
    "        print(f\"New item had been added with values of: {item, category, quantity, price, date}\")\n",
    "    else:\n",
    "        print(\"Item already exists\")\n",
    "    close_sql_connection(con)"
   ]
  },
  {
   "cell_type": "code",
   "execution_count": 11,
   "id": "ead71b76",
   "metadata": {},
   "outputs": [],
   "source": [
    "def update_price(item,price):\n",
    "    con = set_sql_connection() ## Creates connection\n",
    "    cur = set_cursor(con) ## Creates Cursor\n",
    "    if (is_item_exist(item)):\n",
    "        query = \"\"\"UPDATE Inventory set Price = ? where Item = ?\"\"\"\n",
    "        val = (price, item)\n",
    "        cur.execute(query, val)\n",
    "        print(f\"New item had been changed with values of: {item, price}\")\n",
    "    else:\n",
    "        print(\"Item not exists\")\n",
    "    close_sql_connection(con)\n"
   ]
  },
  {
   "cell_type": "code",
   "execution_count": 12,
   "id": "e99433d4",
   "metadata": {},
   "outputs": [],
   "source": [
    "def update_quantity(item,quantity):\n",
    "    con = set_sql_connection() ## Creates connection\n",
    "    cur = set_cursor(con) ## Creates Cursor\n",
    "    if (is_item_exist(item)):\n",
    "        query = \"\"\"UPDATE Inventory SET Quantity = ? WHERE Item = ?\"\"\"\n",
    "        val = (quantity, item)\n",
    "        cur.execute(query, val)\n",
    "        print(f\"New item had been changed with values of: {item, quantity}\")\n",
    "    else:\n",
    "        print(\"Item not exists\")\n",
    "    close_sql_connection(con)"
   ]
  },
  {
   "cell_type": "code",
   "execution_count": 13,
   "id": "9691115f",
   "metadata": {},
   "outputs": [],
   "source": [
    "def update_item_name(item,name):\n",
    "    con = set_sql_connection() ## Creates connection\n",
    "    cur = set_cursor(con) ## Creates Cursor\n",
    "    if (is_item_exist(item)):\n",
    "        query = \"\"\"UPDATE Inventory SET Item = ? WHERE Item = ?\"\"\"\n",
    "        val = (name, item)\n",
    "        cur.execute(query, val)\n",
    "        print(f\"New item had been changed with values of: {item, name}\")\n",
    "    else:\n",
    "        print(\"Item not exists\")\n",
    "    close_sql_connection(con)"
   ]
  },
  {
   "cell_type": "code",
   "execution_count": 14,
   "id": "d706102d",
   "metadata": {},
   "outputs": [],
   "source": [
    "def update_category(item,cat):\n",
    "    con = set_sql_connection() ## Creates connection\n",
    "    cur = set_cursor(con) ## Creates Cursor\n",
    "    if (is_item_exist(item)):\n",
    "        query = \"\"\"UPDATE Inventory SET Category = ? WHERE Item = ?\"\"\"\n",
    "        val = (cat, item)\n",
    "        cur.execute(query, val)\n",
    "        print(f\"New item had been changed with values of: {item, cat}\")               \n",
    "    else:\n",
    "        print(\"Item not exists\")\n",
    "    close_sql_connection(con)"
   ]
  },
  {
   "cell_type": "code",
   "execution_count": 15,
   "id": "e0a4b236",
   "metadata": {},
   "outputs": [
    {
     "name": "stdout",
     "output_type": "stream",
     "text": [
      "[{'ID': 1, 'Item': 'Tent', 'Category': 'Outdoors', 'Quantity': 1000, 'Price': 75, 'Date': '03/21/2022'}, {'ID': 2, 'Item': 'New_Saloon', 'Category': 'Furniture', 'Quantity': 122, 'Price': 12222, 'Date': '2022-03-21'}, {'ID': 3, 'Item': 'Saloon2', 'Category': 'Furniture', 'Quantity': 122, 'Price': 5400, 'Date': '2022-03-21'}, {'ID': 4, 'Item': 'Saloon3', 'Category': 'Furniture', 'Quantity': 120, 'Price': 5400, 'Date': '2022-03-21'}, {'ID': 5, 'Item': 'Saloon4', 'Category': 'Furniture', 'Quantity': 123, 'Price': 5400, 'Date': '2022-03-21'}, {'ID': 6, 'Item': 'Saloon5', 'Category': 'Furniture', 'Quantity': 120, 'Price': 5400, 'Date': '2022-03-21'}, {'ID': 7, 'Item': 'Saloon6', 'Category': 'Furniture', 'Quantity': 120, 'Price': 5430, 'Date': '2022-03-21'}, {'ID': 8, 'Item': 'Saloon7', 'Category': 'Furniture', 'Quantity': 124, 'Price': 5400, 'Date': '2022-03-21'}, {'ID': 9, 'Item': 'Saloon10', 'Category': 'Furniture', 'Quantity': 120, 'Price': 5420, 'Date': '2022-03-21'}, {'ID': 10, 'Item': 'Saloon11', 'Category': 'Furniture', 'Quantity': 120, 'Price': 5400, 'Date': '2022-03-21'}, {'ID': 11, 'Item': 'Saloon12', 'Category': 'Furniture', 'Quantity': 120, 'Price': 5420, 'Date': '2022-03-21'}, {'ID': 12, 'Item': 'Saloon13', 'Category': 'Furniture', 'Quantity': 120, 'Price': 5400, 'Date': '2022-03-21'}, {'ID': 13, 'Item': 'Saloon14', 'Category': 'Furniture', 'Quantity': 120, 'Price': 5401, 'Date': '2022-03-21'}, {'ID': 14, 'Item': 'Saloon15', 'Category': 'Furniture', 'Quantity': 120, 'Price': 5100, 'Date': '2022-03-21'}, {'ID': 15, 'Item': 'Saloon16', 'Category': 'Furniture', 'Quantity': 120, 'Price': 5400, 'Date': '2022-03-21'}, {'ID': 16, 'Item': 'Saloon', 'Category': 'Furniture', 'Quantity': 122, 'Price': 5400, 'Date': '2022-03-21'}]\n",
      "True\n",
      "Today's date: 2022-03-21\n"
     ]
    },
    {
     "ename": "OperationalError",
     "evalue": "database is locked",
     "output_type": "error",
     "traceback": [
      "\u001b[1;31m---------------------------------------------------------------------------\u001b[0m",
      "\u001b[1;31mOperationalError\u001b[0m                          Traceback (most recent call last)",
      "Input \u001b[1;32mIn [15]\u001b[0m, in \u001b[0;36m<cell line: 7>\u001b[1;34m()\u001b[0m\n\u001b[0;32m      4\u001b[0m today \u001b[38;5;241m=\u001b[39m date\u001b[38;5;241m.\u001b[39mtoday()\n\u001b[0;32m      5\u001b[0m \u001b[38;5;28mprint\u001b[39m(\u001b[38;5;124m\"\u001b[39m\u001b[38;5;124mToday\u001b[39m\u001b[38;5;124m'\u001b[39m\u001b[38;5;124ms date:\u001b[39m\u001b[38;5;124m\"\u001b[39m, today)\n\u001b[1;32m----> 7\u001b[0m \u001b[43minsert_item\u001b[49m\u001b[43m(\u001b[49m\u001b[38;5;124;43m'\u001b[39;49m\u001b[38;5;124;43mSal\u001b[39;49m\u001b[38;5;124;43m'\u001b[39;49m\u001b[43m,\u001b[49m\u001b[38;5;124;43m'\u001b[39;49m\u001b[38;5;124;43mFurniture\u001b[39;49m\u001b[38;5;124;43m'\u001b[39;49m\u001b[43m,\u001b[49m\u001b[38;5;241;43m120\u001b[39;49m\u001b[43m,\u001b[49m\u001b[38;5;241;43m5400\u001b[39;49m\u001b[43m,\u001b[49m\u001b[43mtoday\u001b[49m\u001b[43m)\u001b[49m\n",
      "Input \u001b[1;32mIn [10]\u001b[0m, in \u001b[0;36minsert_item\u001b[1;34m(item, category, quantity, price, date)\u001b[0m\n\u001b[0;32m      7\u001b[0m \u001b[38;5;28;01mif\u001b[39;00m \u001b[38;5;129;01mnot\u001b[39;00m (is_item_exist(item)): \u001b[38;5;66;03m## is exist validation\u001b[39;00m\n\u001b[0;32m      8\u001b[0m     query \u001b[38;5;241m=\u001b[39m \u001b[38;5;124m\"\u001b[39m\u001b[38;5;124mINSERT INTO Inventory (`Item`,`Category`,`Quantity`,`Price`,`Date`) VALUES (?,?,?,?,?)\u001b[39m\u001b[38;5;124m\"\u001b[39m \u001b[38;5;66;03m## PREPARED STATEMENT\u001b[39;00m\n\u001b[1;32m----> 9\u001b[0m     \u001b[43mcur\u001b[49m\u001b[38;5;241;43m.\u001b[39;49m\u001b[43mexecute\u001b[49m\u001b[43m(\u001b[49m\u001b[43mquery\u001b[49m\u001b[43m,\u001b[49m\u001b[43m \u001b[49m\u001b[43m(\u001b[49m\u001b[43mitem\u001b[49m\u001b[43m,\u001b[49m\u001b[43m \u001b[49m\u001b[43mcategory\u001b[49m\u001b[43m,\u001b[49m\u001b[43m \u001b[49m\u001b[43mquantity\u001b[49m\u001b[43m,\u001b[49m\u001b[43m \u001b[49m\u001b[43mprice\u001b[49m\u001b[43m,\u001b[49m\u001b[43mdate\u001b[49m\u001b[43m)\u001b[49m\u001b[43m)\u001b[49m \u001b[38;5;66;03m## PREPARED STATEMENT\u001b[39;00m\n\u001b[0;32m     10\u001b[0m     \u001b[38;5;28mprint\u001b[39m(\u001b[38;5;124mf\u001b[39m\u001b[38;5;124m\"\u001b[39m\u001b[38;5;124mNew item had been added with values of: \u001b[39m\u001b[38;5;132;01m{\u001b[39;00mitem, category, quantity, price, date\u001b[38;5;132;01m}\u001b[39;00m\u001b[38;5;124m\"\u001b[39m)\n\u001b[0;32m     11\u001b[0m \u001b[38;5;28;01melse\u001b[39;00m:\n",
      "\u001b[1;31mOperationalError\u001b[0m: database is locked"
     ]
    }
   ],
   "source": [
    "print(get_items())\n",
    "print(is_item_exist('Tent'))\n",
    "\n",
    "today = date.today()\n",
    "print(\"Today's date:\", today)\n",
    "\n",
    "insert_item('Sal','Furniture',120,5400,today)\n",
    "\n",
    "\n",
    "\n",
    "\n",
    "\n"
   ]
  },
  {
   "cell_type": "code",
   "execution_count": 22,
   "id": "17a01e71",
   "metadata": {},
   "outputs": [
    {
     "ename": "OperationalError",
     "evalue": "database is locked",
     "output_type": "error",
     "traceback": [
      "\u001b[1;31m---------------------------------------------------------------------------\u001b[0m",
      "\u001b[1;31mOperationalError\u001b[0m                          Traceback (most recent call last)",
      "Input \u001b[1;32mIn [22]\u001b[0m, in \u001b[0;36m<cell line: 1>\u001b[1;34m()\u001b[0m\n\u001b[1;32m----> 1\u001b[0m \u001b[43mupdate_item_name\u001b[49m\u001b[43m(\u001b[49m\u001b[38;5;124;43m'\u001b[39;49m\u001b[38;5;124;43mSaloon10\u001b[39;49m\u001b[38;5;124;43m'\u001b[39;49m\u001b[43m,\u001b[49m\u001b[38;5;124;43m'\u001b[39;49m\u001b[38;5;124;43mNew_Saloon5855\u001b[39;49m\u001b[38;5;124;43m'\u001b[39;49m\u001b[43m)\u001b[49m\n",
      "Input \u001b[1;32mIn [16]\u001b[0m, in \u001b[0;36mupdate_item_name\u001b[1;34m(item, name)\u001b[0m\n\u001b[0;32m      5\u001b[0m     query \u001b[38;5;241m=\u001b[39m \u001b[38;5;124m\"\"\"\u001b[39m\u001b[38;5;124mUPDATE Inventory SET Item = ? WHERE Item = ?\u001b[39m\u001b[38;5;124m\"\"\"\u001b[39m\n\u001b[0;32m      6\u001b[0m     val \u001b[38;5;241m=\u001b[39m (name, item)\n\u001b[1;32m----> 7\u001b[0m     \u001b[43mcur\u001b[49m\u001b[38;5;241;43m.\u001b[39;49m\u001b[43mexecute\u001b[49m\u001b[43m(\u001b[49m\u001b[43mquery\u001b[49m\u001b[43m,\u001b[49m\u001b[43m \u001b[49m\u001b[43mval\u001b[49m\u001b[43m)\u001b[49m\n\u001b[0;32m      8\u001b[0m     \u001b[38;5;28mprint\u001b[39m(\u001b[38;5;124mf\u001b[39m\u001b[38;5;124m\"\u001b[39m\u001b[38;5;124mNew item had been changed with values of: \u001b[39m\u001b[38;5;132;01m{\u001b[39;00mitem, name\u001b[38;5;132;01m}\u001b[39;00m\u001b[38;5;124m\"\u001b[39m)\n\u001b[0;32m      9\u001b[0m \u001b[38;5;28;01melse\u001b[39;00m:\n",
      "\u001b[1;31mOperationalError\u001b[0m: database is locked"
     ]
    }
   ],
   "source": [
    "update_item_name('Saloon10','New_Saloon5855')"
   ]
  },
  {
   "cell_type": "code",
   "execution_count": null,
   "id": "6f896a56",
   "metadata": {},
   "outputs": [],
   "source": [
    "update_quantity('Saloon',122)"
   ]
  },
  {
   "cell_type": "code",
   "execution_count": null,
   "id": "d0e2c9ed",
   "metadata": {},
   "outputs": [],
   "source": [
    "update_price('Salo99on',12222)"
   ]
  },
  {
   "cell_type": "code",
   "execution_count": null,
   "id": "e46b2b73",
   "metadata": {},
   "outputs": [],
   "source": [
    "update_category('Saloon10','new_cat')"
   ]
  },
  {
   "cell_type": "code",
   "execution_count": null,
   "id": "b6b85355",
   "metadata": {},
   "outputs": [],
   "source": []
  },
  {
   "cell_type": "code",
   "execution_count": null,
   "id": "0b9cb7bb",
   "metadata": {},
   "outputs": [],
   "source": []
  }
 ],
 "metadata": {
  "kernelspec": {
   "display_name": "Python 3 (ipykernel)",
   "language": "python",
   "name": "python3"
  },
  "language_info": {
   "codemirror_mode": {
    "name": "ipython",
    "version": 3
   },
   "file_extension": ".py",
   "mimetype": "text/x-python",
   "name": "python",
   "nbconvert_exporter": "python",
   "pygments_lexer": "ipython3",
   "version": "3.10.2"
  }
 },
 "nbformat": 4,
 "nbformat_minor": 5
}
