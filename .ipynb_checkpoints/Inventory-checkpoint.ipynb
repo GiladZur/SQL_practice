{
 "cells": [
  {
   "cell_type": "code",
   "execution_count": 19,
   "id": "a2ffeb5d",
   "metadata": {},
   "outputs": [],
   "source": [
    "import sqlite3"
   ]
  },
  {
   "cell_type": "code",
   "execution_count": 36,
   "id": "12627926",
   "metadata": {},
   "outputs": [],
   "source": [
    "PATH = \"C:\\\\Users\\\\Owner\\\\Desktop\\\\DEVOPS_COURSE\\\\SQL_practice\\\\\"\n",
    "FILENAME = \"Inventory.db\"\n",
    "FILE = PATH + FILENAME"
   ]
  },
  {
   "cell_type": "code",
   "execution_count": 37,
   "id": "aefb142c",
   "metadata": {},
   "outputs": [],
   "source": [
    "def set_sql_connection():\n",
    "    \"\"\"\n",
    "    This function will create connection to a database, using sqlite3 module\n",
    "    This function returns a Connection object \n",
    "    \"\"\"\n",
    "    con = sqlite3.connect(FILE)\n",
    "    return con"
   ]
  },
  {
   "cell_type": "code",
   "execution_count": 38,
   "id": "18651ae0",
   "metadata": {},
   "outputs": [],
   "source": [
    "def set_cursor(con):\n",
    "    \"\"\"\n",
    "    This function will create a Cursor object, once a connection had been made using set_sql_connection\n",
    "    IN: con\n",
    "    TYPE: sqlite3.connect\n",
    "    OUT: cur\n",
    "    TYPE: sqlite3.connect.cursor\n",
    "    \"\"\"\n",
    "    cur = con.cursor()\n",
    "    return cur"
   ]
  },
  {
   "cell_type": "code",
   "execution_count": 39,
   "id": "a9b3b81f",
   "metadata": {},
   "outputs": [],
   "source": [
    "def close_sql_connection(con):\n",
    "    \"\"\"\n",
    "    This function will commit any changes to an open sql connection and closes it.\n",
    "    IN: con\n",
    "    TYPE: sqlite3.connect \n",
    "    \"\"\"\n",
    "    con.commit()\n",
    "    con.close()"
   ]
  },
  {
   "cell_type": "code",
   "execution_count": 43,
   "id": "63941361",
   "metadata": {},
   "outputs": [],
   "source": [
    "def get_users():\n",
    "    \"\"\"\n",
    "    This function retrieves all users information from a database\n",
    "    IN: \n",
    "    OUT: Values from DB as LIST of Dict\n",
    "    Type: LIST\n",
    "    \"\"\"\n",
    "    con = set_sql_connection() ## Creates connection\n",
    "    cur = set_cursor(con) ## Creates Cursor\n",
    "    query = \"SELECT * FROM Inventory\" ## SQL QUERY\n",
    "    data = cur.execute(query).fetchall() ## EXECUTING SQL QUERY\n",
    "    dct = sort_as_dict(cur, data)\n",
    "    close_sql_connection(con) ## Closing connection\n",
    "    return dct"
   ]
  },
  {
   "cell_type": "code",
   "execution_count": 44,
   "id": "8add7a8e",
   "metadata": {},
   "outputs": [],
   "source": [
    "def sort_as_dict(cur, data):\n",
    "    \"\"\"\n",
    "    This function receives cur, data, where:\n",
    "    1. cur will be used to retrieve columns\n",
    "    2. data will be used to retrieve values\n",
    "    This function will return a list of dictionary {columns:values}\n",
    "    \"\"\"\n",
    "    ## List Comprehension\n",
    "    columns = [desc[0] for desc in cur.description] ## GETTING COLUMNS NAMES FROM DB\n",
    "    result = []\n",
    "    for row in data:\n",
    "        row = dict(zip(columns, row))\n",
    "        result.append(row)\n",
    "        \n",
    "    return result"
   ]
  },
  {
   "cell_type": "code",
   "execution_count": 48,
   "id": "5b6270d2",
   "metadata": {},
   "outputs": [],
   "source": [
    "def is_item_exist(item):\n",
    "    con = set_sql_connection() ## Creates connection\n",
    "    cur = set_cursor(con) ## Creates Cursor\n",
    "    query = \"SELECT * FROM `Inventory`\" ## SQL QUERY\n",
    "    data = cur.execute(query).fetchall() ## EXECUTING SQL QUERY\n",
    "    close_sql_connection(con)\n",
    "    for row in data:\n",
    "        if row[1] == item:\n",
    "            return True\n",
    "    return False"
   ]
  },
  {
   "cell_type": "code",
   "execution_count": 51,
   "id": "131fc110",
   "metadata": {},
   "outputs": [
    {
     "name": "stdout",
     "output_type": "stream",
     "text": [
      "[{'ID': 1, 'Item': 'Tent', 'Category': 'Outdoors', 'Quantity': 1000, 'Price': 75, 'Date': '03/21/2022'}]\n",
      "True\n"
     ]
    }
   ],
   "source": [
    "\n",
    "print(get_users())\n",
    "print(is_item_exist('Tent'))"
   ]
  },
  {
   "cell_type": "code",
   "execution_count": null,
   "id": "a26cf56c",
   "metadata": {},
   "outputs": [],
   "source": []
  }
 ],
 "metadata": {
  "kernelspec": {
   "display_name": "Python 3 (ipykernel)",
   "language": "python",
   "name": "python3"
  },
  "language_info": {
   "codemirror_mode": {
    "name": "ipython",
    "version": 3
   },
   "file_extension": ".py",
   "mimetype": "text/x-python",
   "name": "python",
   "nbconvert_exporter": "python",
   "pygments_lexer": "ipython3",
   "version": "3.10.2"
  }
 },
 "nbformat": 4,
 "nbformat_minor": 5
}
