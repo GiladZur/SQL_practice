{
 "cells": [
  {
   "cell_type": "code",
   "execution_count": 26,
   "id": "50b53a27",
   "metadata": {},
   "outputs": [],
   "source": [
    "import sqlite3\n",
    "from datetime import date "
   ]
  },
  {
   "cell_type": "code",
   "execution_count": 27,
   "id": "7ee12df3",
   "metadata": {},
   "outputs": [],
   "source": [
    "import time"
   ]
  },
  {
   "cell_type": "code",
   "execution_count": 28,
   "id": "e0fcd544",
   "metadata": {},
   "outputs": [],
   "source": [
    "PATH = \"C:\\\\Users\\\\Owner\\\\Desktop\\\\DEVOPS_COURSE\\\\SQL_practice\\\\\"\n",
    "FILENAME = \"Inventory.db\"\n",
    "FILE = PATH + FILENAME"
   ]
  },
  {
   "cell_type": "code",
   "execution_count": 29,
   "id": "7efa5550",
   "metadata": {},
   "outputs": [],
   "source": [
    "def set_sql_connection():\n",
    "    \"\"\"\n",
    "    This function will create connection to a database, using sqlite3 module\n",
    "    This function returns a Connection object \n",
    "    \"\"\"\n",
    "    try:\n",
    "        con = sqlite3.connect(FILE)\n",
    "        return con\n",
    "    except OperationalError as e:\n",
    "        print(str(e))       \n",
    "   "
   ]
  },
  {
   "cell_type": "code",
   "execution_count": 30,
   "id": "a6807076",
   "metadata": {},
   "outputs": [],
   "source": [
    "def set_cursor(con):\n",
    "    \"\"\"\n",
    "    This function will create a Cursor object, once a connection had been made using set_sql_connection\n",
    "    IN: con\n",
    "    TYPE: sqlite3.connect\n",
    "    OUT: cur\n",
    "    TYPE: sqlite3.connect.cursor\n",
    "    \"\"\"\n",
    "    cur = con.cursor()\n",
    "    return cur"
   ]
  },
  {
   "cell_type": "code",
   "execution_count": 31,
   "id": "d68f27e9",
   "metadata": {},
   "outputs": [],
   "source": [
    "def close_sql_connection(con):\n",
    "    \"\"\"\n",
    "    This function will commit any changes to an open sql connection and closes it.\n",
    "    IN: con\n",
    "    TYPE: sqlite3.connect \n",
    "    \"\"\"\n",
    "    con.commit()\n",
    "    con.close()"
   ]
  },
  {
   "cell_type": "code",
   "execution_count": 32,
   "id": "6a16194f",
   "metadata": {},
   "outputs": [],
   "source": [
    "def get_items():\n",
    "    \"\"\"\n",
    "    This function retrieves all users information from a database\n",
    "    IN: \n",
    "    OUT: Values from DB as LIST of Dict\n",
    "    Type: LIST\n",
    "    \"\"\"\n",
    "    con = set_sql_connection() ## Creates connection\n",
    "    cur = set_cursor(con) ## Creates Cursor\n",
    "    query = \"SELECT * FROM Inventory\" ## SQL QUERY\n",
    "    data = cur.execute(query).fetchall() ## EXECUTING SQL QUERY\n",
    "    dct = sort_as_dict(cur, data)\n",
    "    close_sql_connection(con) ## Closing connection\n",
    "    return dct"
   ]
  },
  {
   "cell_type": "code",
   "execution_count": 33,
   "id": "28f7d59d",
   "metadata": {},
   "outputs": [],
   "source": [
    "def sort_as_dict(cur, data):\n",
    "    \"\"\"\n",
    "    This function receives cur, data, where:\n",
    "    1. cur will be used to retrieve columns\n",
    "    2. data will be used to retrieve values\n",
    "    This function will return a list of dictionary {columns:values}\n",
    "    \"\"\"\n",
    "    ## List Comprehension\n",
    "    columns = [desc[0] for desc in cur.description] ## GETTING COLUMNS NAMES FROM DB\n",
    "    result = []\n",
    "    for row in data:\n",
    "        row = dict(zip(columns, row))\n",
    "        result.append(row)\n",
    "        \n",
    "    return result"
   ]
  },
  {
   "cell_type": "code",
   "execution_count": 34,
   "id": "7100e9f8",
   "metadata": {},
   "outputs": [],
   "source": [
    "def is_item_exist(item):\n",
    "    con = set_sql_connection() ## Creates connection\n",
    "    cur = set_cursor(con) ## Creates Cursor\n",
    "    query = \"SELECT * FROM `Inventory`\" ## SQL QUERY\n",
    "    data = cur.execute(query).fetchall() ## EXECUTING SQL QUERY\n",
    "    close_sql_connection(con)\n",
    "    for row in data:\n",
    "        if row[1] == item:\n",
    "            return True\n",
    "    return False"
   ]
  },
  {
   "cell_type": "code",
   "execution_count": 35,
   "id": "57a77d1d",
   "metadata": {},
   "outputs": [],
   "source": [
    "def insert_item(item, category, quantity, price, date):\n",
    "    \"\"\"\n",
    "    This function inserts a new user into an existing database, once validating that the user or email doesnt exist\n",
    "    \"\"\"\n",
    "    con = set_sql_connection() ## Creates connection\n",
    "    cur = set_cursor(con) ## Creates Cursor\n",
    "    if not (is_item_exist(item)): ## is exist validation\n",
    "        query = \"INSERT INTO Inventory (`Item`,`Category`,`Quantity`,`Price`,`Date`) VALUES (?,?,?,?,?)\" ## PREPARED STATEMENT\n",
    "        cur.execute(query, (item, category, quantity, price,date)) ## PREPARED STATEMENT\n",
    "        print(f\"New item had been added with values of: {item, category, quantity, price, date}\")\n",
    "    else:\n",
    "        print(\"Item already exists\")\n",
    "    close_sql_connection(con)"
   ]
  },
  {
   "cell_type": "code",
   "execution_count": 36,
   "id": "ead71b76",
   "metadata": {},
   "outputs": [],
   "source": [
    "def update_price(item,price):\n",
    "    con = set_sql_connection() ## Creates connection\n",
    "    cur = set_cursor(con) ## Creates Cursor\n",
    "    if (is_item_exist(item)):\n",
    "        query = \"\"\"UPDATE Inventory set Price = ? where Item = ?\"\"\"\n",
    "        val = (price, item)\n",
    "        cur.execute(query, val)\n",
    "        print(f\"New item had been changed with values of: {item, price}\")\n",
    "    else:\n",
    "        print(\"Item not exists\")\n",
    "    close_sql_connection(con)\n"
   ]
  },
  {
   "cell_type": "code",
   "execution_count": 37,
   "id": "e99433d4",
   "metadata": {},
   "outputs": [],
   "source": [
    "def update_quantity(item,quantity):\n",
    "    con = set_sql_connection() ## Creates connection\n",
    "    cur = set_cursor(con) ## Creates Cursor\n",
    "    if (is_item_exist(item)):\n",
    "        query = \"\"\"UPDATE Inventory SET Quantity = ? WHERE Item = ?\"\"\"\n",
    "        val = (quantity, item)\n",
    "        cur.execute(query, val)\n",
    "        print(f\"New item had been changed with values of: {item, quantity}\")\n",
    "    else:\n",
    "        print(\"Item not exists\")\n",
    "    close_sql_connection(con)"
   ]
  },
  {
   "cell_type": "code",
   "execution_count": 38,
   "id": "9691115f",
   "metadata": {},
   "outputs": [],
   "source": [
    "def update_item_name(item,name):\n",
    "    con = set_sql_connection() ## Creates connection\n",
    "    cur = set_cursor(con) ## Creates Cursor\n",
    "    if (is_item_exist(item)):\n",
    "        query = \"\"\"UPDATE Inventory SET Item = ? WHERE Item = ?\"\"\"\n",
    "        val = (name, item)\n",
    "        cur.execute(query, val)\n",
    "        print(f\"New item had been changed with values of: {item, name}\")\n",
    "    else:\n",
    "        print(\"Item not exists\")\n",
    "    close_sql_connection(con)"
   ]
  },
  {
   "cell_type": "code",
   "execution_count": 39,
   "id": "d706102d",
   "metadata": {},
   "outputs": [],
   "source": [
    "def update_category(item,cat):\n",
    "    con = set_sql_connection() ## Creates connection\n",
    "    cur = set_cursor(con) ## Creates Cursor\n",
    "    if (is_item_exist(item)):\n",
    "        query = \"\"\"UPDATE Inventory SET Category = ? WHERE Item = ?\"\"\"\n",
    "        val = (cat, item)\n",
    "        cur.execute(query, val)\n",
    "        print(f\"New item had been changed with values of: {item, cat}\")               \n",
    "    else:\n",
    "        print(\"Item not exists\")\n",
    "    close_sql_connection(con)"
   ]
  },
  {
   "cell_type": "code",
   "execution_count": 45,
   "id": "3ed75e03",
   "metadata": {},
   "outputs": [],
   "source": [
    "def delete_item(item):\n",
    "    con = set_sql_connection() ## Creates connection\n",
    "    cur = set_cursor(con) ## Creates Cursor\n",
    "    if (is_item_exist(item)):\n",
    "        query = f\"DELETE from Inventory WHERE Item = '{item}'\"\n",
    "        #val = (item)\n",
    "        cur.execute(query)\n",
    "        print(f\"New item had been deleted : {item}\")               \n",
    "    else:\n",
    "        print(\"Item not exists\")\n",
    "    close_sql_connection(con)"
   ]
  },
  {
   "cell_type": "code",
   "execution_count": 47,
   "id": "23a3bfb8",
   "metadata": {},
   "outputs": [],
   "source": [
    "def highest_quantity():\n",
    "    con = set_sql_connection() ## Creates connection\n",
    "    cur = set_cursor(con) ## Creates Cursor\n",
    "    query = \"SELECT * FROM `Inventory`\" ## SQL QUERY\n",
    "    data = cur.execute(query).fetchall() ## EXECUTING SQL QUERY\n",
    "    close_sql_connection(con)\n",
    "    high=0\n",
    "    name='item'\n",
    "    for row in data:\n",
    "        if row[3] > high:\n",
    "           high=row[3]\n",
    "           name=row[1]\n",
    "    return name"
   ]
  },
  {
   "cell_type": "code",
   "execution_count": 67,
   "id": "040178a0",
   "metadata": {},
   "outputs": [],
   "source": [
    "def lowest_quantity():\n",
    "    con = set_sql_connection() ## Creates connection\n",
    "    cur = set_cursor(con) ## Creates Cursor\n",
    "    query = \"SELECT * FROM `Inventory`\" ## SQL QUERY\n",
    "    data = cur.execute(query).fetchall() ## EXECUTING SQL QUERY\n",
    "    close_sql_connection(con)\n",
    "    low=data[0][3]\n",
    "    name='item'\n",
    "    for row in data:\n",
    "        if row[3] < low:\n",
    "           low=row[3]\n",
    "           name=row[1]\n",
    "    return name"
   ]
  },
  {
   "cell_type": "code",
   "execution_count": 61,
   "id": "70752811",
   "metadata": {},
   "outputs": [],
   "source": [
    "def sort_item_by_price():\n",
    "    d = get_items()\n",
    "    newlist = sorted(d, key=lambda d: d['Price']) \n",
    "    return newlist"
   ]
  },
  {
   "cell_type": "code",
   "execution_count": 66,
   "id": "e0a4b236",
   "metadata": {},
   "outputs": [
    {
     "name": "stdout",
     "output_type": "stream",
     "text": [
      "[{'ID': 1, 'Item': 'New_Saloon5855', 'Category': 'Outdoors', 'Quantity': 122, 'Price': 75, 'Date': '03/21/2022'}, {'ID': 2, 'Item': 'yuyuyu', 'Category': 'Furniture', 'Quantity': 122, 'Price': 12222, 'Date': '2022-03-21'}, {'ID': 21, 'Item': 'Sal123', 'Category': 'Furniture', 'Quantity': 450, 'Price': 5400, 'Date': '2022-03-23'}, {'ID': 22, 'Item': 'Sal8888123', 'Category': 'Furniture', 'Quantity': 2, 'Price': 5400, 'Date': '2022-03-23'}]\n",
      "False\n",
      "Today's date: 2022-03-23\n",
      "Item already exists\n",
      "Item not exists\n",
      "We have a lot of Sal123\n",
      "75\n",
      "We have a some of Sal8888123\n",
      "[{'ID': 1, 'Item': 'New_Saloon5855', 'Category': 'Outdoors', 'Quantity': 122, 'Price': 75, 'Date': '03/21/2022'}, {'ID': 21, 'Item': 'Sal123', 'Category': 'Furniture', 'Quantity': 450, 'Price': 5400, 'Date': '2022-03-23'}, {'ID': 22, 'Item': 'Sal8888123', 'Category': 'Furniture', 'Quantity': 2, 'Price': 5400, 'Date': '2022-03-23'}, {'ID': 2, 'Item': 'yuyuyu', 'Category': 'Furniture', 'Quantity': 122, 'Price': 12222, 'Date': '2022-03-21'}]\n"
     ]
    }
   ],
   "source": [
    "print(get_items())\n",
    "print(is_item_exist('Tent'))\n",
    "\n",
    "today = date.today()\n",
    "print(\"Today's date:\", today)\n",
    "\n",
    "insert_item('Sal8888123','Furniture',2,5400,today)\n",
    "delete_item('Sal1235')\n",
    "print(f\"We have a lot of {highest_quantity()}\")\n",
    "print(f\"We have a some of {lowest_quantity()}\")\n",
    "print(sort_item_by_price())\n",
    "\n"
   ]
  },
  {
   "cell_type": "code",
   "execution_count": 17,
   "id": "17a01e71",
   "metadata": {},
   "outputs": [
    {
     "name": "stdout",
     "output_type": "stream",
     "text": [
      "New item had been changed with values of: ('Tent', 'New_Saloon5855')\n"
     ]
    }
   ],
   "source": [
    "update_item_name('Tent','New_Saloon5855')"
   ]
  },
  {
   "cell_type": "code",
   "execution_count": 20,
   "id": "6f896a56",
   "metadata": {},
   "outputs": [
    {
     "name": "stdout",
     "output_type": "stream",
     "text": [
      "New item had been changed with values of: ('New_Saloon5855', 122)\n"
     ]
    }
   ],
   "source": [
    "update_quantity('New_Saloon5855',122)"
   ]
  },
  {
   "cell_type": "code",
   "execution_count": 22,
   "id": "d0e2c9ed",
   "metadata": {},
   "outputs": [
    {
     "name": "stdout",
     "output_type": "stream",
     "text": [
      "Item not exists\n"
     ]
    }
   ],
   "source": [
    "update_price('Salo99on',12222)"
   ]
  },
  {
   "cell_type": "code",
   "execution_count": 23,
   "id": "e46b2b73",
   "metadata": {},
   "outputs": [
    {
     "name": "stdout",
     "output_type": "stream",
     "text": [
      "Item not exists\n"
     ]
    }
   ],
   "source": [
    "update_category('Saloon10','new_cat')"
   ]
  },
  {
   "cell_type": "code",
   "execution_count": null,
   "id": "b6b85355",
   "metadata": {},
   "outputs": [],
   "source": []
  },
  {
   "cell_type": "code",
   "execution_count": null,
   "id": "0b9cb7bb",
   "metadata": {},
   "outputs": [],
   "source": []
  }
 ],
 "metadata": {
  "kernelspec": {
   "display_name": "Python 3 (ipykernel)",
   "language": "python",
   "name": "python3"
  },
  "language_info": {
   "codemirror_mode": {
    "name": "ipython",
    "version": 3
   },
   "file_extension": ".py",
   "mimetype": "text/x-python",
   "name": "python",
   "nbconvert_exporter": "python",
   "pygments_lexer": "ipython3",
   "version": "3.10.2"
  }
 },
 "nbformat": 4,
 "nbformat_minor": 5
}
